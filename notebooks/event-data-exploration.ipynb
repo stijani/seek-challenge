{
 "cells": [
  {
   "cell_type": "markdown",
   "metadata": {},
   "source": [
    "# EVENT DATA EXPLORATION\n",
    "\n",
    "**Here I did a brief exploration of the events data. One plot that stood out to me was the discrepancy between the counts of job views to the count of job applications. If we asume that anyone viewing a job is genuinely  interested in submitting an application, then this huge might signify a mismatch between job summaries and the full job contents.**\n",
    "\n",
    "### Hypothesis: \n",
    "**Improving the match between job category and the job content could help convert more job views to applications.**"
   ]
  },
  {
   "cell_type": "code",
   "execution_count": 4,
   "metadata": {},
   "outputs": [],
   "source": [
    "import pandas as pd\n",
    "import matplotlib.pyplot as plt\n",
    "from collections import Counter\n",
    "import seaborn as sns\n",
    "\n",
    "sns.set_theme()"
   ]
  },
  {
   "cell_type": "code",
   "execution_count": 5,
   "metadata": {},
   "outputs": [
    {
     "data": {
      "text/html": [
       "<div>\n",
       "<style scoped>\n",
       "    .dataframe tbody tr th:only-of-type {\n",
       "        vertical-align: middle;\n",
       "    }\n",
       "\n",
       "    .dataframe tbody tr th {\n",
       "        vertical-align: top;\n",
       "    }\n",
       "\n",
       "    .dataframe thead th {\n",
       "        text-align: right;\n",
       "    }\n",
       "</style>\n",
       "<table border=\"1\" class=\"dataframe\">\n",
       "  <thead>\n",
       "    <tr style=\"text-align: right;\">\n",
       "      <th></th>\n",
       "      <th>event_datetime</th>\n",
       "      <th>resume_id</th>\n",
       "      <th>job_id</th>\n",
       "      <th>event_platform</th>\n",
       "      <th>kind</th>\n",
       "    </tr>\n",
       "  </thead>\n",
       "  <tbody>\n",
       "    <tr>\n",
       "      <th>0</th>\n",
       "      <td>2021-05-01T08:42:05</td>\n",
       "      <td>158655</td>\n",
       "      <td>38820886</td>\n",
       "      <td>IOS_APP</td>\n",
       "      <td>V</td>\n",
       "    </tr>\n",
       "    <tr>\n",
       "      <th>1</th>\n",
       "      <td>2021-05-01T08:42:05</td>\n",
       "      <td>158655</td>\n",
       "      <td>38901970</td>\n",
       "      <td>IOS_APP</td>\n",
       "      <td>V</td>\n",
       "    </tr>\n",
       "    <tr>\n",
       "      <th>2</th>\n",
       "      <td>2021-05-01T08:42:05</td>\n",
       "      <td>158655</td>\n",
       "      <td>38919645</td>\n",
       "      <td>IOS_APP</td>\n",
       "      <td>V</td>\n",
       "    </tr>\n",
       "    <tr>\n",
       "      <th>3</th>\n",
       "      <td>2021-05-01T08:42:05</td>\n",
       "      <td>158655</td>\n",
       "      <td>38928402</td>\n",
       "      <td>IOS_APP</td>\n",
       "      <td>V</td>\n",
       "    </tr>\n",
       "    <tr>\n",
       "      <th>4</th>\n",
       "      <td>2021-05-01T08:42:05</td>\n",
       "      <td>158655</td>\n",
       "      <td>38847632</td>\n",
       "      <td>IOS_APP</td>\n",
       "      <td>V</td>\n",
       "    </tr>\n",
       "  </tbody>\n",
       "</table>\n",
       "</div>"
      ],
      "text/plain": [
       "        event_datetime  resume_id    job_id event_platform kind\n",
       "0  2021-05-01T08:42:05     158655  38820886        IOS_APP    V\n",
       "1  2021-05-01T08:42:05     158655  38901970        IOS_APP    V\n",
       "2  2021-05-01T08:42:05     158655  38919645        IOS_APP    V\n",
       "3  2021-05-01T08:42:05     158655  38928402        IOS_APP    V\n",
       "4  2021-05-01T08:42:05     158655  38847632        IOS_APP    V"
      ]
     },
     "execution_count": 5,
     "metadata": {},
     "output_type": "execute_result"
    }
   ],
   "source": [
    "data_events = pd.read_csv('../data/raw/ads-50k-events.csv')\n",
    "data_events.head()"
   ]
  },
  {
   "cell_type": "code",
   "execution_count": 6,
   "metadata": {},
   "outputs": [
    {
     "data": {
      "text/plain": [
       "(4304688, 5)"
      ]
     },
     "execution_count": 6,
     "metadata": {},
     "output_type": "execute_result"
    }
   ],
   "source": [
    "data_events.shape"
   ]
  },
  {
   "cell_type": "code",
   "execution_count": 7,
   "metadata": {},
   "outputs": [],
   "source": [
    "data_events_copy = data_events.copy()"
   ]
  },
  {
   "cell_type": "markdown",
   "metadata": {},
   "source": [
    "#### Add the count of job and resume ids"
   ]
  },
  {
   "cell_type": "code",
   "execution_count": 8,
   "metadata": {},
   "outputs": [
    {
     "data": {
      "text/html": [
       "<div>\n",
       "<style scoped>\n",
       "    .dataframe tbody tr th:only-of-type {\n",
       "        vertical-align: middle;\n",
       "    }\n",
       "\n",
       "    .dataframe tbody tr th {\n",
       "        vertical-align: top;\n",
       "    }\n",
       "\n",
       "    .dataframe thead th {\n",
       "        text-align: right;\n",
       "    }\n",
       "</style>\n",
       "<table border=\"1\" class=\"dataframe\">\n",
       "  <thead>\n",
       "    <tr style=\"text-align: right;\">\n",
       "      <th></th>\n",
       "      <th>event_datetime</th>\n",
       "      <th>resume_id</th>\n",
       "      <th>job_id</th>\n",
       "      <th>event_platform</th>\n",
       "      <th>kind</th>\n",
       "      <th>job_id_count</th>\n",
       "      <th>resume_id_count</th>\n",
       "    </tr>\n",
       "  </thead>\n",
       "  <tbody>\n",
       "    <tr>\n",
       "      <th>0</th>\n",
       "      <td>2021-05-01T08:42:05</td>\n",
       "      <td>158655</td>\n",
       "      <td>38820886</td>\n",
       "      <td>IOS_APP</td>\n",
       "      <td>V</td>\n",
       "      <td>201</td>\n",
       "      <td>108</td>\n",
       "    </tr>\n",
       "    <tr>\n",
       "      <th>1</th>\n",
       "      <td>2021-05-01T08:42:05</td>\n",
       "      <td>158655</td>\n",
       "      <td>38901970</td>\n",
       "      <td>IOS_APP</td>\n",
       "      <td>V</td>\n",
       "      <td>201</td>\n",
       "      <td>108</td>\n",
       "    </tr>\n",
       "    <tr>\n",
       "      <th>2</th>\n",
       "      <td>2021-05-01T08:42:05</td>\n",
       "      <td>158655</td>\n",
       "      <td>38919645</td>\n",
       "      <td>IOS_APP</td>\n",
       "      <td>V</td>\n",
       "      <td>201</td>\n",
       "      <td>108</td>\n",
       "    </tr>\n",
       "    <tr>\n",
       "      <th>3</th>\n",
       "      <td>2021-05-01T08:42:05</td>\n",
       "      <td>158655</td>\n",
       "      <td>38928402</td>\n",
       "      <td>IOS_APP</td>\n",
       "      <td>V</td>\n",
       "      <td>201</td>\n",
       "      <td>108</td>\n",
       "    </tr>\n",
       "    <tr>\n",
       "      <th>4</th>\n",
       "      <td>2021-05-01T08:42:05</td>\n",
       "      <td>158655</td>\n",
       "      <td>38847632</td>\n",
       "      <td>IOS_APP</td>\n",
       "      <td>V</td>\n",
       "      <td>201</td>\n",
       "      <td>108</td>\n",
       "    </tr>\n",
       "  </tbody>\n",
       "</table>\n",
       "</div>"
      ],
      "text/plain": [
       "        event_datetime  resume_id    job_id event_platform kind  job_id_count  \\\n",
       "0  2021-05-01T08:42:05     158655  38820886        IOS_APP    V           201   \n",
       "1  2021-05-01T08:42:05     158655  38901970        IOS_APP    V           201   \n",
       "2  2021-05-01T08:42:05     158655  38919645        IOS_APP    V           201   \n",
       "3  2021-05-01T08:42:05     158655  38928402        IOS_APP    V           201   \n",
       "4  2021-05-01T08:42:05     158655  38847632        IOS_APP    V           201   \n",
       "\n",
       "   resume_id_count  \n",
       "0              108  \n",
       "1              108  \n",
       "2              108  \n",
       "3              108  \n",
       "4              108  "
      ]
     },
     "execution_count": 8,
     "metadata": {},
     "output_type": "execute_result"
    }
   ],
   "source": [
    "data_events_copy['job_id_count'] = data_events_copy.groupby('job_id')['job_id'].transform('count')\n",
    "data_events_copy['resume_id_count'] = data_events_copy.groupby('resume_id')['resume_id'].transform('count')\n",
    "data_events_copy.head()"
   ]
  },
  {
   "cell_type": "code",
   "execution_count": 9,
   "metadata": {},
   "outputs": [
    {
     "data": {
      "text/plain": [
       "(4304688, 7)"
      ]
     },
     "execution_count": 9,
     "metadata": {},
     "output_type": "execute_result"
    }
   ],
   "source": [
    "data_events_copy.shape"
   ]
  },
  {
   "cell_type": "code",
   "execution_count": 10,
   "metadata": {},
   "outputs": [
    {
     "data": {
      "text/plain": [
       "['IOS_APP', 'ANDROID_APP', 'WEB']"
      ]
     },
     "execution_count": 10,
     "metadata": {},
     "output_type": "execute_result"
    }
   ],
   "source": [
    "platforms = list(data_events_copy.event_platform.unique())\n",
    "platforms"
   ]
  },
  {
   "cell_type": "code",
   "execution_count": 11,
   "metadata": {},
   "outputs": [
    {
     "data": {
      "text/plain": [
       "['V', 'A']"
      ]
     },
     "execution_count": 11,
     "metadata": {},
     "output_type": "execute_result"
    }
   ],
   "source": [
    "# V: view, A: application\n",
    "kinds = list(data_events_copy.kind.unique())\n",
    "kinds"
   ]
  },
  {
   "cell_type": "code",
   "execution_count": 12,
   "metadata": {},
   "outputs": [
    {
     "data": {
      "text/html": [
       "<div>\n",
       "<style scoped>\n",
       "    .dataframe tbody tr th:only-of-type {\n",
       "        vertical-align: middle;\n",
       "    }\n",
       "\n",
       "    .dataframe tbody tr th {\n",
       "        vertical-align: top;\n",
       "    }\n",
       "\n",
       "    .dataframe thead th {\n",
       "        text-align: right;\n",
       "    }\n",
       "</style>\n",
       "<table border=\"1\" class=\"dataframe\">\n",
       "  <thead>\n",
       "    <tr style=\"text-align: right;\">\n",
       "      <th></th>\n",
       "      <th>event_datetime</th>\n",
       "      <th>resume_id</th>\n",
       "      <th>job_id</th>\n",
       "      <th>event_platform</th>\n",
       "      <th>kind</th>\n",
       "      <th>job_id_count</th>\n",
       "      <th>resume_id_count</th>\n",
       "      <th>year</th>\n",
       "      <th>month</th>\n",
       "      <th>day</th>\n",
       "      <th>hour</th>\n",
       "    </tr>\n",
       "  </thead>\n",
       "  <tbody>\n",
       "    <tr>\n",
       "      <th>0</th>\n",
       "      <td>2021-05-01 08:42:05</td>\n",
       "      <td>158655</td>\n",
       "      <td>38820886</td>\n",
       "      <td>IOS_APP</td>\n",
       "      <td>V</td>\n",
       "      <td>201</td>\n",
       "      <td>108</td>\n",
       "      <td>2021</td>\n",
       "      <td>5</td>\n",
       "      <td>1</td>\n",
       "      <td>8</td>\n",
       "    </tr>\n",
       "    <tr>\n",
       "      <th>1</th>\n",
       "      <td>2021-05-01 08:42:05</td>\n",
       "      <td>158655</td>\n",
       "      <td>38901970</td>\n",
       "      <td>IOS_APP</td>\n",
       "      <td>V</td>\n",
       "      <td>201</td>\n",
       "      <td>108</td>\n",
       "      <td>2021</td>\n",
       "      <td>5</td>\n",
       "      <td>1</td>\n",
       "      <td>8</td>\n",
       "    </tr>\n",
       "    <tr>\n",
       "      <th>2</th>\n",
       "      <td>2021-05-01 08:42:05</td>\n",
       "      <td>158655</td>\n",
       "      <td>38919645</td>\n",
       "      <td>IOS_APP</td>\n",
       "      <td>V</td>\n",
       "      <td>201</td>\n",
       "      <td>108</td>\n",
       "      <td>2021</td>\n",
       "      <td>5</td>\n",
       "      <td>1</td>\n",
       "      <td>8</td>\n",
       "    </tr>\n",
       "    <tr>\n",
       "      <th>3</th>\n",
       "      <td>2021-05-01 08:42:05</td>\n",
       "      <td>158655</td>\n",
       "      <td>38928402</td>\n",
       "      <td>IOS_APP</td>\n",
       "      <td>V</td>\n",
       "      <td>201</td>\n",
       "      <td>108</td>\n",
       "      <td>2021</td>\n",
       "      <td>5</td>\n",
       "      <td>1</td>\n",
       "      <td>8</td>\n",
       "    </tr>\n",
       "    <tr>\n",
       "      <th>4</th>\n",
       "      <td>2021-05-01 08:42:05</td>\n",
       "      <td>158655</td>\n",
       "      <td>38847632</td>\n",
       "      <td>IOS_APP</td>\n",
       "      <td>V</td>\n",
       "      <td>201</td>\n",
       "      <td>108</td>\n",
       "      <td>2021</td>\n",
       "      <td>5</td>\n",
       "      <td>1</td>\n",
       "      <td>8</td>\n",
       "    </tr>\n",
       "  </tbody>\n",
       "</table>\n",
       "</div>"
      ],
      "text/plain": [
       "       event_datetime  resume_id    job_id event_platform kind  job_id_count  \\\n",
       "0 2021-05-01 08:42:05     158655  38820886        IOS_APP    V           201   \n",
       "1 2021-05-01 08:42:05     158655  38901970        IOS_APP    V           201   \n",
       "2 2021-05-01 08:42:05     158655  38919645        IOS_APP    V           201   \n",
       "3 2021-05-01 08:42:05     158655  38928402        IOS_APP    V           201   \n",
       "4 2021-05-01 08:42:05     158655  38847632        IOS_APP    V           201   \n",
       "\n",
       "   resume_id_count  year  month  day  hour  \n",
       "0              108  2021      5    1     8  \n",
       "1              108  2021      5    1     8  \n",
       "2              108  2021      5    1     8  \n",
       "3              108  2021      5    1     8  \n",
       "4              108  2021      5    1     8  "
      ]
     },
     "execution_count": 12,
     "metadata": {},
     "output_type": "execute_result"
    }
   ],
   "source": [
    "# split the date and time to year, month, day and hour\n",
    "data_events_copy['event_datetime'] = pd.to_datetime(data_events_copy['event_datetime'])\n",
    "data_events_copy['year'] = data_events_copy['event_datetime'].dt.year\n",
    "data_events_copy['month'] = data_events_copy['event_datetime'].dt.month\n",
    "data_events_copy['day'] = data_events_copy['event_datetime'].dt.day\n",
    "data_events_copy['hour'] = data_events_copy['event_datetime'].dt.hour\n",
    "data_events_copy.head()"
   ]
  },
  {
   "cell_type": "code",
   "execution_count": 13,
   "metadata": {},
   "outputs": [
    {
     "data": {
      "text/plain": [
       "(4304688, 11)"
      ]
     },
     "execution_count": 13,
     "metadata": {},
     "output_type": "execute_result"
    }
   ],
   "source": [
    "data_events_copy.shape"
   ]
  },
  {
   "cell_type": "code",
   "execution_count": 14,
   "metadata": {},
   "outputs": [
    {
     "data": {
      "text/plain": [
       "[2021]"
      ]
     },
     "execution_count": 14,
     "metadata": {},
     "output_type": "execute_result"
    }
   ],
   "source": [
    "list(data_events_copy.year.unique())"
   ]
  },
  {
   "cell_type": "code",
   "execution_count": 15,
   "metadata": {},
   "outputs": [
    {
     "data": {
      "image/png": "[encoded data removed]",
      "text/plain": [
       "<Figure size 432x288 with 1 Axes>"
      ]
     },
     "metadata": {},
     "output_type": "display_data"
    }
   ],
   "source": [
    "event_hour_count_dict = dict(Counter(data_events_copy.hour))\n",
    "event_hour, count = zip(*[(hour, count) for hour, count in event_hour_count_dict.items()])\n",
    "plt.bar(event_hour, count)\n",
    "plt.ylabel('Count of Job View/Application')\n",
    "_ = plt.xlabel('Hour of the Day (0 - 23)')"
   ]
  },
  {
   "cell_type": "code",
   "execution_count": 16,
   "metadata": {},
   "outputs": [
    {
     "data": {
      "image/png": "[encoded data removed]",
      "text/plain": [
       "<Figure size 432x288 with 1 Axes>"
      ]
     },
     "metadata": {},
     "output_type": "display_data"
    }
   ],
   "source": [
    "event_platform_count_dict = dict(Counter(data_events_copy.event_platform))\n",
    "event_platform, count = zip(*[(platform, count) for platform, count in event_platform_count_dict.items()])\n",
    "plt.bar(event_platform, count)\n",
    "plt.ylabel('Count of Job View/Application')\n",
    "_ = plt.xlabel('platform')"
   ]
  },
  {
   "cell_type": "code",
   "execution_count": 17,
   "metadata": {},
   "outputs": [
    {
     "data": {
      "image/png": "[encoded data removed]",
      "text/plain": [
       "<Figure size 432x288 with 1 Axes>"
      ]
     },
     "metadata": {},
     "output_type": "display_data"
    }
   ],
   "source": [
    "event_kind_count_dict = dict(Counter(data_events_copy.kind))\n",
    "event_kind, count = zip(*[(kind, count) for kind, count in event_kind_count_dict.items()])\n",
    "plt.bar(event_kind, count)\n",
    "plt.ylabel('Count of Job View (V)/Application (A)')\n",
    "_ = plt.xlabel('kind')"
   ]
  },
  {
   "cell_type": "code",
   "execution_count": 18,
   "metadata": {},
   "outputs": [
    {
     "data": {
      "image/png": "[encoded data removed]",
      "text/plain": [
       "<Figure size 432x288 with 1 Axes>"
      ]
     },
     "metadata": {},
     "output_type": "display_data"
    }
   ],
   "source": [
    "# Only applied jobs\n",
    "\n",
    "applied_jobs = data_events_copy[data_events_copy['kind']=='A']\n",
    "event_platform_count_dict = dict(Counter(applied_jobs.event_platform))\n",
    "event_platform, count = zip(*[(platform, count) for platform, count in event_platform_count_dict.items()])\n",
    "plt.bar(event_platform, count)\n",
    "plt.ylabel('Count of Job View/Application')\n",
    "_ = plt.xlabel('platform')"
   ]
  },
  {
   "cell_type": "code",
   "execution_count": 19,
   "metadata": {},
   "outputs": [
    {
     "data": {
      "image/png": "[encoded data removed]",
      "text/plain": [
       "<Figure size 432x288 with 1 Axes>"
      ]
     },
     "metadata": {},
     "output_type": "display_data"
    }
   ],
   "source": [
    "# Only viewed jobs\n",
    "\n",
    "viewed_jobs = data_events_copy[data_events_copy['kind']=='V']\n",
    "event_platform_count_dict = dict(Counter(viewed_jobs.event_platform))\n",
    "event_platform, count = zip(*[(platform, count) for platform, count in event_platform_count_dict.items()])\n",
    "plt.bar(event_platform, count)\n",
    "plt.ylabel('Count of Job View/Application')\n",
    "_ = plt.xlabel('platform')"
   ]
  },
  {
   "cell_type": "code",
   "execution_count": null,
   "metadata": {},
   "outputs": [],
   "source": []
  },
  {
   "cell_type": "code",
   "execution_count": null,
   "metadata": {},
   "outputs": [],
   "source": []
  },
  {
   "cell_type": "code",
   "execution_count": null,
   "metadata": {},
   "outputs": [],
   "source": []
  }
 ],
 "metadata": {
  "kernelspec": {
   "display_name": "challenge",
   "language": "python",
   "name": "challenge"
  },
  "language_info": {
   "codemirror_mode": {
    "name": "ipython",
    "version": 3
   },
   "file_extension": ".py",
   "mimetype": "text/x-python",
   "name": "python",
   "nbconvert_exporter": "python",
   "pygments_lexer": "ipython3",
   "version": "3.8.8"
  }
 },
 "nbformat": 4,
 "nbformat_minor": 4
}
